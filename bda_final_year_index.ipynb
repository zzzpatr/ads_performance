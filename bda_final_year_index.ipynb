{
 "cells": [
  {
   "cell_type": "code",
   "execution_count": 1,
   "id": "1ed03cf9",
   "metadata": {},
   "outputs": [],
   "source": [
    "import pandas as pd\n",
    "import datetime\n",
    "import statsmodels.api as sm\n",
    "import os"
   ]
  },
  {
   "cell_type": "code",
   "execution_count": 2,
   "id": "83d6f5da",
   "metadata": {},
   "outputs": [],
   "source": [
    "file_list = []\n",
    "for i in os.listdir(\"D:/download/91APP_BehaviorData/\"):\n",
    "    if \"2021\" in i:\n",
    "        file_list.append(i)"
   ]
  },
  {
   "cell_type": "markdown",
   "id": "567c8974",
   "metadata": {},
   "source": [
    "### 1. 交易頻率"
   ]
  },
  {
   "cell_type": "code",
   "execution_count": 18,
   "id": "d142cfdf",
   "metadata": {
    "scrolled": true
   },
   "outputs": [
    {
     "name": "stderr",
     "output_type": "stream",
     "text": [
      "D:\\anaconda\\lib\\site-packages\\IPython\\core\\interactiveshell.py:3072: DtypeWarning: Columns (8,10,11,13,20,21,22,23,24,25) have mixed types.Specify dtype option on import or set low_memory=False.\n",
      "  interactivity=interactivity, compiler=compiler, result=result)\n"
     ]
    }
   ],
   "source": [
    "all_y_df = pd.DataFrame()\n",
    "for f_i, f_e in enumerate(file_list):\n",
    "    \n",
    "    # y\n",
    "    BehaviorData = pd.read_csv(\"D:/download/91APP_BehaviorData/\"+f_e)\n",
    "    uni_mem_df = BehaviorData.loc[BehaviorData[\"MemberId\"].dropna().index]\n",
    "    uni_mem_df = uni_mem_df[[\"MemberId\",\"TotalSalesAmount\",\"UTMSource\"]]\n",
    "    member_id = uni_mem_df[\"MemberId\"].unique()\n",
    "    buyer_id = uni_mem_df.loc[uni_mem_df[\"TotalSalesAmount\"].dropna().index][\"MemberId\"].unique()\n",
    "\n",
    "    choose_id = buyer_id\n",
    "\n",
    "    y_df = uni_mem_df[[\"MemberId\",\"TotalSalesAmount\"]].groupby(\"MemberId\").size()\n",
    "    y_df = pd.DataFrame(y_df.loc[choose_id].values, columns=[\"sale_num\"])\n",
    "    y_df[\"member_id\"] = choose_id\n",
    "    y_df[\"month\"] = f_i + 1\n",
    "    \n",
    "    all_y_df = pd.concat([all_y_df,y_df])"
   ]
  },
  {
   "cell_type": "code",
   "execution_count": 26,
   "id": "090a5f96",
   "metadata": {},
   "outputs": [
    {
     "data": {
      "text/html": [
       "<div>\n",
       "<style scoped>\n",
       "    .dataframe tbody tr th:only-of-type {\n",
       "        vertical-align: middle;\n",
       "    }\n",
       "\n",
       "    .dataframe tbody tr th {\n",
       "        vertical-align: top;\n",
       "    }\n",
       "\n",
       "    .dataframe thead th {\n",
       "        text-align: right;\n",
       "    }\n",
       "</style>\n",
       "<table border=\"1\" class=\"dataframe\">\n",
       "  <thead>\n",
       "    <tr style=\"text-align: right;\">\n",
       "      <th></th>\n",
       "      <th>sale_num</th>\n",
       "      <th>member_id</th>\n",
       "      <th>month</th>\n",
       "    </tr>\n",
       "  </thead>\n",
       "  <tbody>\n",
       "    <tr>\n",
       "      <th>0</th>\n",
       "      <td>122</td>\n",
       "      <td>OALJiAwaPfH556ouk0zHg4WG9psivbzOJWV3wcFj17g=</td>\n",
       "      <td>1</td>\n",
       "    </tr>\n",
       "    <tr>\n",
       "      <th>1</th>\n",
       "      <td>98</td>\n",
       "      <td>7txopGdciY8nbASBOLhYUFmiZ9qeMDCznpdWDP0py18=</td>\n",
       "      <td>1</td>\n",
       "    </tr>\n",
       "    <tr>\n",
       "      <th>2</th>\n",
       "      <td>151</td>\n",
       "      <td>Yuzh43QOSwpPLj51zssfk5IXkyKyIOR0snnAcAhzhJk=</td>\n",
       "      <td>1</td>\n",
       "    </tr>\n",
       "    <tr>\n",
       "      <th>3</th>\n",
       "      <td>10</td>\n",
       "      <td>iRBOrqTIvAGg+0VG6LoZkNL1TFsbGbYl+9L3fAGjP6I=</td>\n",
       "      <td>1</td>\n",
       "    </tr>\n",
       "    <tr>\n",
       "      <th>4</th>\n",
       "      <td>28</td>\n",
       "      <td>HXq97wyibnjhOOUXvq7L3V+PeOXvnnLIp/P7iczduYA=</td>\n",
       "      <td>1</td>\n",
       "    </tr>\n",
       "  </tbody>\n",
       "</table>\n",
       "</div>"
      ],
      "text/plain": [
       "   sale_num                                     member_id  month\n",
       "0       122  OALJiAwaPfH556ouk0zHg4WG9psivbzOJWV3wcFj17g=      1\n",
       "1        98  7txopGdciY8nbASBOLhYUFmiZ9qeMDCznpdWDP0py18=      1\n",
       "2       151  Yuzh43QOSwpPLj51zssfk5IXkyKyIOR0snnAcAhzhJk=      1\n",
       "3        10  iRBOrqTIvAGg+0VG6LoZkNL1TFsbGbYl+9L3fAGjP6I=      1\n",
       "4        28  HXq97wyibnjhOOUXvq7L3V+PeOXvnnLIp/P7iczduYA=      1"
      ]
     },
     "execution_count": 26,
     "metadata": {},
     "output_type": "execute_result"
    }
   ],
   "source": [
    "all_y_df.head()"
   ]
  },
  {
   "cell_type": "code",
   "execution_count": 9,
   "id": "8f392d76",
   "metadata": {},
   "outputs": [],
   "source": [
    "all_count_df = pd.read_csv(\"all_count_df_year.csv\")\n",
    "all_count_df = pd.merge(all_count_df, all_y_df, on=[\"member_id\",\"month\"])"
   ]
  },
  {
   "cell_type": "code",
   "execution_count": 75,
   "id": "e08ed74d",
   "metadata": {},
   "outputs": [],
   "source": [
    "all_count_df.to_csv(\"all_count_df.csv\",index=None)"
   ]
  },
  {
   "cell_type": "markdown",
   "id": "2a5a25da",
   "metadata": {},
   "source": [
    "### 2. 活動頁面次數"
   ]
  },
  {
   "cell_type": "code",
   "execution_count": 67,
   "id": "ca1c0475",
   "metadata": {},
   "outputs": [
    {
     "name": "stderr",
     "output_type": "stream",
     "text": [
      "D:\\anaconda\\lib\\site-packages\\IPython\\core\\interactiveshell.py:3072: DtypeWarning: Columns (8,10,11,13,14,15,19,20,21,22,23,24,25) have mixed types.Specify dtype option on import or set low_memory=False.\n",
      "  interactivity=interactivity, compiler=compiler, result=result)\n",
      "D:\\anaconda\\lib\\site-packages\\IPython\\core\\interactiveshell.py:3072: DtypeWarning: Columns (8,10,11,13,20,21,22,23,24,25) have mixed types.Specify dtype option on import or set low_memory=False.\n",
      "  interactivity=interactivity, compiler=compiler, result=result)\n"
     ]
    }
   ],
   "source": [
    "all_y_df = pd.DataFrame()\n",
    "for f_i, f_e in enumerate(file_list):\n",
    "    \n",
    "    # y\n",
    "    BehaviorData = pd.read_csv(\"D:/download/91APP_BehaviorData/\"+f_e)\n",
    "    uni_mem_df = BehaviorData.loc[BehaviorData[\"MemberId\"].dropna().index]\n",
    "    uni_mem_df = uni_mem_df[[\"MemberId\",\"TotalSalesAmount\",\"UTMSource\",\"Behavior\"]]\n",
    "    member_id = uni_mem_df[\"MemberId\"].unique()\n",
    "    buyer_id = uni_mem_df.loc[uni_mem_df[\"TotalSalesAmount\"].dropna().index][\"MemberId\"].unique()\n",
    "\n",
    "    choose_id = buyer_id\n",
    "\n",
    "    y_df = uni_mem_df[uni_mem_df[\"Behavior\"] == \"viewactivity\"]\n",
    "    y_df = y_df[[\"MemberId\",\"Behavior\"]].groupby(\"MemberId\").size()\n",
    "    y_df = pd.DataFrame(y_df, columns=[\"activity_num\"])\n",
    "    y_df = y_df.reset_index()\n",
    "    y_df.columns=[\"member_id\",\"activity_num\"]\n",
    "    y_df[\"month\"] = f_i + 1\n",
    "    \n",
    "    all_y_df = pd.concat([all_y_df,y_df])"
   ]
  },
  {
   "cell_type": "code",
   "execution_count": 70,
   "id": "2077d49d",
   "metadata": {},
   "outputs": [],
   "source": [
    "all_activity =  pd.merge(all_count_df, all_y_df, on=[\"member_id\",\"month\"])"
   ]
  },
  {
   "cell_type": "code",
   "execution_count": 76,
   "id": "ece0edba",
   "metadata": {},
   "outputs": [],
   "source": [
    "all_activity.to_csv(\"all_activity.csv\",index=None)"
   ]
  }
 ],
 "metadata": {
  "kernelspec": {
   "display_name": "Python 3",
   "language": "python",
   "name": "python3"
  },
  "language_info": {
   "codemirror_mode": {
    "name": "ipython",
    "version": 3
   },
   "file_extension": ".py",
   "mimetype": "text/x-python",
   "name": "python",
   "nbconvert_exporter": "python",
   "pygments_lexer": "ipython3",
   "version": "3.6.2"
  }
 },
 "nbformat": 4,
 "nbformat_minor": 5
}
